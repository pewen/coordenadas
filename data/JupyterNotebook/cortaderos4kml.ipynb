{
 "cells": [
  {
   "cell_type": "markdown",
   "metadata": {},
   "source": [
    "# Procesando coordenadas de los cortaderos\n",
    "\n",
    "Procesando datos .kml que los obtenemos al exportar los datos de mymaps."
   ]
  },
  {
   "cell_type": "code",
   "execution_count": 1,
   "metadata": {
    "collapsed": false
   },
   "outputs": [],
   "source": [
    "import json\n",
    "\n",
    "from bs4 import BeautifulSoup\n",
    "import numpy as np"
   ]
  },
  {
   "cell_type": "code",
   "execution_count": 2,
   "metadata": {
    "collapsed": true
   },
   "outputs": [],
   "source": [
    "def read4json(file_path):\n",
    "    \"Read configuration data form json file and return a list\"\n",
    "    with open(file_path, 'r') as data_file:\n",
    "        data = json.load(data_file)\n",
    "    return data\n",
    "\n",
    "def save2json(file_path, data):\n",
    "    \"Save configuration data to a json file\"\n",
    "    with open(file_path, 'w') as data_file:\n",
    "        json.dump(data, data_file, indent=4)"
   ]
  },
  {
   "cell_type": "code",
   "execution_count": 3,
   "metadata": {
    "collapsed": true
   },
   "outputs": [],
   "source": [
    "censo_path = '../crudos/censo2010cba.json'\n",
    "kml_path = '../crudos/Ladrilleros.kml'\n",
    "data_path = '../cortaderos_new.geojson'"
   ]
  },
  {
   "cell_type": "code",
   "execution_count": 4,
   "metadata": {
    "collapsed": true
   },
   "outputs": [],
   "source": [
    "# diccionario usados para obtener los valores del censo\n",
    "# Extraido de:\n",
    "# https://github.com/HackathonFOPEA/CensoCordoba2010/blob/master/index.html\n",
    "\n",
    "acceso_a_gas = {\n",
    "    'H14_01': 'Gas de red',\n",
    "    'H14_02': 'Gas a granel',\n",
    "    'H14_03': 'Gas en tubo',\n",
    "    'H14_04': 'Gas en garrafa',\n",
    "    'H14_05': 'Electricidad',\n",
    "    'H14_06': 'Leña o carbón',\n",
    "    'H14_07': 'Otro'\n",
    "}\n",
    "\n",
    "acceso_a_agua = {\n",
    "    'H12_01': 'Red pública',\n",
    "    'H12_02': 'Perforación con bomba a motor',\n",
    "    'H12_03': 'Perforación con bomba manual',\n",
    "    'H12_04': 'Pozo',\n",
    "    'H12_05': 'Transporte por cisterna',\n",
    "    'H12_06': 'Agua de lluvia, río, canal, arroyo o acequia'\n",
    "}\n",
    "\n",
    "tipo_vivienda = {\n",
    "    'V08_01': 'Casa',\n",
    "    'V08_02': 'Rancho',\n",
    "    'V08_03': 'Casilla',\n",
    "    'V08_04': 'Departamento',\n",
    "    'V08_05': 'Pieza en inquilinato',\n",
    "    'V08_06': 'Pieza en hotel familiar o pensión',\n",
    "    'V08_07': 'Local no construido para habitación',\n",
    "    'V08_08': 'Vivienda móvil',\n",
    "    'V08_09': 'Persona/s viviendo en la calle',\n",
    "}\n",
    "\n",
    "area = {\n",
    "    'V03_01': 'Vivienda area Urbano',\n",
    "    'V03_02': 'Vivienda area Rural agrupado',\n",
    "    'V03_03': 'Vivienda area Rural disperso'\n",
    "}\n",
    "\n",
    "banio = {\n",
    "    'H01_01': 'Tiene baño o letrina',\n",
    "    'H01_02': 'No tiene baño o letrina'\n",
    "}\n",
    "\n",
    "hacinamiento = {\n",
    "    'H15_01': 'hacinamiento: Hasta   0.50 personas por cuarto',\n",
    "    'H15_02': 'hacinamiento: 0.51  -  0.99  personas por cuarto',\n",
    "    'H15_03': 'hacinamiento: 1.00  -  1.49  personas por cuarto',\n",
    "    'H15_04': 'hacinamiento: 1.50  -  1.99  personas por cuarto',\n",
    "    'H15_05': 'hacinamiento: 2.00  -  3.00  personas por cuarto',\n",
    "    'H15_06': 'hacinamiento: Más de  3.00 personas por cuarto'\n",
    "}\n",
    "\n",
    "nivel_educativo = {\n",
    "    'P03_01': 'Nivel educativo que cursa o cursó: Inicial (jardin, preescolar)',\n",
    "    'P03_02': 'Nivel educativo que cursa o cursó: Primario',\n",
    "    'P03_03': 'Nivel educativo que cursa o cursó: EGB',\n",
    "    'P03_04': 'Nivel educativo que cursa o cursó: Secundario',\n",
    "    'P03_05': 'Nivel educativo que cursa o cursó: Polimodal',\n",
    "    'P03_06': 'Nivel educativo que cursa o cursó: Superior no universitario',\n",
    "    'P03_07': 'Nivel educativo que cursa o cursó: Universitario',\n",
    "    'P03_08': 'Nivel educativo que cursa o cursó: Post universitario',\n",
    "    'P03_09': 'Nivel educativo que cursa o cursó: Educacion especial',\n",
    "}\n",
    "\n",
    "V03 = ['V03_01', 'V03_02', 'V03_03']\n",
    "V08 = ['V08_01', 'V08_02', 'V08_03', 'V08_04', 'V08_05', 'V08_06', 'V08_07', 'V08_08', 'V08_09']\n",
    "H01 = ['H01_01', 'H01_02']\n",
    "H12 = ['H12_01', 'H12_02', 'H12_03', 'H12_04', 'H12_05', 'H12_06']\n",
    "H14 = ['H14_01', 'H14_02', 'H14_03', 'H14_04', 'H14_05', 'H14_06', 'H14_07']\n",
    "H15 = ['H15_01', 'H15_02', 'H15_03', 'H15_04', 'H15_05', 'H15_06']\n",
    "P03 = ['P03_01', 'P03_02', 'P03_03', 'P03_04', 'P03_05', 'P03_06', 'P03_07', 'P03_08', 'P03_09']"
   ]
  },
  {
   "cell_type": "code",
   "execution_count": 5,
   "metadata": {
    "collapsed": false
   },
   "outputs": [],
   "source": [
    "data = open(kml_path).read()\n",
    "bs = BeautifulSoup(data, \"lxml\")"
   ]
  },
  {
   "cell_type": "code",
   "execution_count": 6,
   "metadata": {
    "collapsed": false
   },
   "outputs": [
    {
     "data": {
      "text/plain": [
       "'-63.9524943,-31.3270035,0.0'"
      ]
     },
     "execution_count": 6,
     "metadata": {},
     "output_type": "execute_result"
    }
   ],
   "source": [
    "bs.find('coordinates').text"
   ]
  },
  {
   "cell_type": "code",
   "execution_count": 7,
   "metadata": {
    "collapsed": false
   },
   "outputs": [],
   "source": [
    "censo = read4json(censo_path)\n",
    "len_censo = len(censo[0]['features'])"
   ]
  },
  {
   "cell_type": "code",
   "execution_count": 8,
   "metadata": {
    "collapsed": false
   },
   "outputs": [],
   "source": [
    "todas_cortaderas = []\n",
    "\n",
    "for coordenadas in bs.find_all('coordinates'):\n",
    "    # Coordenadas de la cortadera\n",
    "    lat, long, z = coordenadas.text.split(',')\n",
    "    cortadera_pos = np.array([float(lat), float(long)])\n",
    "    \n",
    "    # calculo ladistancia de la cortadera a todos los puntos del censo\n",
    "    pos = np.zeros((len_censo, 2))\n",
    "    for i in range(len_censo):\n",
    "        pos[i, 0] = censo[0]['features'][i]['properties']['coordinates'][0]\n",
    "        pos[i, 1] = censo[0]['features'][i]['properties']['coordinates'][1]\n",
    "\n",
    "    diff = (pos - cortadera_pos)**2\n",
    "    suma = diff[:,0] + diff[:,1]\n",
    "    minimo = suma.argmin()\n",
    "    \n",
    "    # obtengo los datos del agua del punto mas cercano del censo\n",
    "    agua_dic = {}\n",
    "    for key in H12:\n",
    "        value = censo[0]['features'][minimo]['properties'][key]\n",
    "        new_key = acceso_a_agua[key]\n",
    "        agua_dic[new_key] = value\n",
    "\n",
    "    # obtengo los datos del gas del punto mas cercano del censo\n",
    "    gas_dic = {}    \n",
    "    for key in H14:\n",
    "        value = censo[0]['features'][minimo]['properties'][key]\n",
    "        new_key = acceso_a_gas[key]\n",
    "        gas_dic[new_key] = value\n",
    "        \n",
    "    # Obtengo los datos del tipo de vivienda\n",
    "    vivienda_dic = {}\n",
    "    for key in V08:\n",
    "        value = censo[0]['features'][minimo]['properties'][key]\n",
    "        new_key = tipo_vivienda[key]\n",
    "        vivienda_dic[new_key] = value\n",
    "\n",
    "    # Area\n",
    "    area_dic = {}\n",
    "    for key in V03:\n",
    "        value = censo[0]['features'][minimo]['properties'][key]\n",
    "        new_key = area[key]\n",
    "        area_dic[new_key] = value\n",
    "\n",
    "    # banio\n",
    "    banio_dic = {}\n",
    "    for key in H01:\n",
    "        value = censo[0]['features'][minimo]['properties'][key]\n",
    "        new_key = banio[key]\n",
    "        banio_dic[new_key] = value\n",
    "\n",
    "    # Hacinamiento\n",
    "    hacinamiento_dic = {}\n",
    "    for key in H15:\n",
    "        value = censo[0]['features'][minimo]['properties'][key]\n",
    "        new_key = hacinamiento[key]\n",
    "        hacinamiento_dic[new_key] = value\n",
    "\n",
    "    # Nivel educativo\n",
    "    educacion_dic = {}\n",
    "    for key in P03:\n",
    "        value = censo[0]['features'][minimo]['properties'][key]\n",
    "        new_key = nivel_educativo[key]\n",
    "        educacion_dic[new_key] = value\n",
    "\n",
    "\n",
    "    # densidad demografica\n",
    "    densidad = censo[0]['features'][minimo]['properties']['P_TOTAL']\n",
    "    \n",
    "    # nuevo valor para el json de las cortaderas\n",
    "    entry = {\n",
    "            \"geometry\": {\n",
    "                \"coordinates\": list(cortadera_pos),\n",
    "                \"type\": \"Point\"\n",
    "            },\n",
    "            \"type\": \"Feature\",\n",
    "            \"properties\": {\n",
    "                \"type\": \"cortaderos\",\n",
    "                \"name\": \"Cortadero\",\n",
    "                \"acceso_gas\": gas_dic,\n",
    "                \"acceso_agua\": agua_dic,\n",
    "                \"densidad\": densidad,\n",
    "                \"vivienda\": vivienda_dic,\n",
    "                \"area\": area_dic,\n",
    "                \"banio\": banio_dic,\n",
    "                \"hacinaiento\": hacinamiento_dic,\n",
    "                \"educacion\": educacion_dic\n",
    "            }\n",
    "        }\n",
    "\n",
    "    todas_cortaderas.append(entry)"
   ]
  },
  {
   "cell_type": "code",
   "execution_count": 9,
   "metadata": {
    "collapsed": false
   },
   "outputs": [],
   "source": [
    "geojson = {\n",
    "    \"type\": \"FeatureCollection\",\n",
    "    \"features\": todas_cortaderas\n",
    "    }\n",
    "\n",
    "#save2json('../datos/cortaderos_new.geojson', geojson)\n",
    "save2json('../cortaderos_new.geojson', geojson)"
   ]
  },
  {
   "cell_type": "code",
   "execution_count": null,
   "metadata": {
    "collapsed": true
   },
   "outputs": [],
   "source": []
  }
 ],
 "metadata": {
  "anaconda-cloud": {},
  "kernelspec": {
   "display_name": "Python [conda root]",
   "language": "python",
   "name": "conda-root-py"
  },
  "language_info": {
   "codemirror_mode": {
    "name": "ipython",
    "version": 3
   },
   "file_extension": ".py",
   "mimetype": "text/x-python",
   "name": "python",
   "nbconvert_exporter": "python",
   "pygments_lexer": "ipython3",
   "version": "3.5.2"
  }
 },
 "nbformat": 4,
 "nbformat_minor": 1
}
