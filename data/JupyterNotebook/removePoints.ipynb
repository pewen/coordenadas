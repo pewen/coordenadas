{
 "cells": [
  {
   "cell_type": "code",
   "execution_count": 1,
   "metadata": {
    "collapsed": true
   },
   "outputs": [],
   "source": [
    "import json\n",
    "import math"
   ]
  },
  {
   "cell_type": "code",
   "execution_count": 2,
   "metadata": {
    "collapsed": true
   },
   "outputs": [],
   "source": [
    "def save2json(file_path, data):\n",
    "    \"\"\"\n",
    "    Salvo un dic a un json\n",
    "    Parameters\n",
    "    ----------\n",
    "    file_path: str\n",
    "      Path al json\n",
    "    data: dic\n",
    "      Diccionario a guardar\n",
    "    \"\"\"\n",
    "    with open(file_path, 'w') as data_file:\n",
    "        json.dump(data, data_file)\n",
    "        \n",
    "def read4json(file_path):\n",
    "    \"\"\"\n",
    "    Leo la un json y lo retorno\n",
    "    Parameter\n",
    "    ---------\n",
    "    file_path : str\n",
    "      Path al json\n",
    "    \"\"\"\n",
    "    with open(file_path, 'r') as data_file:\n",
    "        data = json.load(data_file)\n",
    "    return data"
   ]
  },
  {
   "cell_type": "code",
   "execution_count": 7,
   "metadata": {
    "collapsed": true
   },
   "outputs": [],
   "source": [
    "originals = read4json('../datos/salud.geojson')\n",
    "toRemove = read4json('../datos/tentativos/salud.json')"
   ]
  },
  {
   "cell_type": "code",
   "execution_count": 8,
   "metadata": {
    "collapsed": false
   },
   "outputs": [
    {
     "data": {
      "text/plain": [
       "(6, 53)"
      ]
     },
     "execution_count": 8,
     "metadata": {},
     "output_type": "execute_result"
    }
   ],
   "source": [
    "len(toRemove['salud']), len(originals[\"features\"])"
   ]
  },
  {
   "cell_type": "code",
   "execution_count": 9,
   "metadata": {
    "collapsed": false
   },
   "outputs": [
    {
     "name": "stdout",
     "output_type": "stream",
     "text": [
      "{'coordinadas': [-64.180834, -31.379462], 'fecha': '2016-12-10 11:25:20.352551', 'type': 'delete', 'ip': '127.0.0.1'}\n"
     ]
    }
   ],
   "source": [
    "for point in toRemove['salud']:\n",
    "    find = False\n",
    "\n",
    "    for cnt, original in enumerate(originals[\"features\"]):\n",
    "        p1 = point['coordinadas']\n",
    "        p2 = original['geometry']['coordinates']\n",
    "        diff = math.sqrt((p1[0] - p2[0])**2 + (p1[1] - p2[1])**2)\n",
    "        if diff < 0.000001:\n",
    "            del originals[\"features\"][cnt]\n",
    "            find = True\n",
    "            break\n",
    "\n",
    "    if not find:    \n",
    "        print(point)\n",
    "        \n",
    "save2json('../datos/salud.geojson', originals)"
   ]
  },
  {
   "cell_type": "code",
   "execution_count": null,
   "metadata": {
    "collapsed": true
   },
   "outputs": [],
   "source": []
  },
  {
   "cell_type": "code",
   "execution_count": 5,
   "metadata": {
    "collapsed": true
   },
   "outputs": [],
   "source": [
    "originals = read4json('../datos/educacion.geojson')\n",
    "toRemove = read4json('../datos/tentativos/educacion.json')"
   ]
  },
  {
   "cell_type": "code",
   "execution_count": 6,
   "metadata": {
    "collapsed": false
   },
   "outputs": [
    {
     "name": "stdout",
     "output_type": "stream",
     "text": [
      "{'coordinadas': [-64.17197499999997, -31.401001], 'fecha': '2016-12-10 11:15:22.550020', 'type': 'delete', 'ip': '127.0.0.1'}\n",
      "{'coordinadas': [-64.154696, -31.401229], 'fecha': '2016-12-10 11:15:28.005763', 'type': 'delete', 'ip': '127.0.0.1'}\n",
      "{'coordinadas': [-64.19513599999999, -31.421735], 'fecha': '2016-12-10 11:15:32.846505', 'type': 'delete', 'ip': '127.0.0.1'}\n",
      "{'coordinadas': [-64.18163400000003, -31.425071], 'fecha': '2016-12-10 11:15:36.637191', 'type': 'delete', 'ip': '127.0.0.1'}\n",
      "{'coordinadas': [-64.18269499999997, -31.430408], 'fecha': '2016-12-10 11:15:40.404253', 'type': 'delete', 'ip': '127.0.0.1'}\n",
      "{'coordinadas': [-64.14550199999996, -31.433818], 'fecha': '2016-12-10 11:15:43.972576', 'type': 'delete', 'ip': '127.0.0.1'}\n",
      "{'coordinadas': [-64.24530800000002, -31.428394], 'fecha': '2016-12-10 11:15:50.831277', 'type': 'delete', 'ip': '127.0.0.1'}\n",
      "{'coordinadas': [-64.24646999999999, -31.424654], 'fecha': '2016-12-10 11:15:55.365381', 'type': 'delete', 'ip': '127.0.0.1'}\n",
      "{'coordinadas': [-64.25133399999999, -31.407856], 'fecha': '2016-12-10 11:15:58.877525', 'type': 'delete', 'ip': '127.0.0.1'}\n",
      "{'coordinadas': [-64.24375099999997, -31.401404], 'fecha': '2016-12-10 11:16:02.564161', 'type': 'delete', 'ip': '127.0.0.1'}\n",
      "{'coordinadas': [-64.24047200000001, -31.392052], 'fecha': '2016-12-10 11:16:06.509054', 'type': 'delete', 'ip': '127.0.0.1'}\n",
      "{'coordinadas': [-64.23113000000001, -31.392398], 'fecha': '2016-12-10 11:16:10.977710', 'type': 'delete', 'ip': '127.0.0.1'}\n",
      "{'coordinadas': [-64.19409100000001, -31.37594], 'fecha': '2016-12-10 11:16:19.864451', 'type': 'delete', 'ip': '127.0.0.1'}\n",
      "{'coordinadas': [-64.18476900000002, -31.376365], 'fecha': '2016-12-10 11:16:44.521288', 'type': 'delete', 'ip': '127.0.0.1'}\n"
     ]
    }
   ],
   "source": [
    "for point in toRemove['educacion']:\n",
    "    find = False\n",
    "\n",
    "    for cnt, original in enumerate(originals[\"features\"]):\n",
    "        p1 = point['coordinadas']\n",
    "        p2 = original['geometry']['coordinates']\n",
    "        diff = math.sqrt((p1[0] - p2[0])**2 + (p1[1] - p2[1])**2)\n",
    "        if diff < 0.000001:\n",
    "            del originals[\"features\"][cnt]\n",
    "            find = True\n",
    "            break\n",
    "\n",
    "    if not find:    \n",
    "        print(point)\n",
    "        \n",
    "save2json('../datos/educacion.geojson', originals)"
   ]
  },
  {
   "cell_type": "code",
   "execution_count": null,
   "metadata": {
    "collapsed": true
   },
   "outputs": [],
   "source": []
  }
 ],
 "metadata": {
  "anaconda-cloud": {},
  "kernelspec": {
   "display_name": "Python [conda root]",
   "language": "python",
   "name": "conda-root-py"
  },
  "language_info": {
   "codemirror_mode": {
    "name": "ipython",
    "version": 3
   },
   "file_extension": ".py",
   "mimetype": "text/x-python",
   "name": "python",
   "nbconvert_exporter": "python",
   "pygments_lexer": "ipython3",
   "version": "3.5.2"
  }
 },
 "nbformat": 4,
 "nbformat_minor": 2
}
