{
 "cells": [
  {
   "cell_type": "markdown",
   "metadata": {},
   "source": [
    "En este caso tengo dos archivos iniciales. Uno con la posición de los colegio y otro con la de los jardines.\n",
    "Voy a juntar todo esta info en un solo GeoJSON: educacion.GeoJSON"
   ]
  },
  {
   "cell_type": "code",
   "execution_count": 1,
   "metadata": {
    "collapsed": true
   },
   "outputs": [],
   "source": [
    "import json\n",
    "\n",
    "from bs4 import BeautifulSoup\n",
    "import numpy as np"
   ]
  },
  {
   "cell_type": "code",
   "execution_count": 2,
   "metadata": {
    "collapsed": true
   },
   "outputs": [],
   "source": [
    "def read4json(file_path):\n",
    "    \"Read configuration data form json file and return a list\"\n",
    "    with open(file_path, 'r') as data_file:\n",
    "        data = json.load(data_file)\n",
    "    return data\n",
    "\n",
    "def save2json(file_path, data):\n",
    "    \"Save configuration data to a json file\"\n",
    "    with open(file_path, 'w') as data_file:\n",
    "        json.dump(data, data_file, indent=4)"
   ]
  },
  {
   "cell_type": "code",
   "execution_count": 3,
   "metadata": {
    "collapsed": true
   },
   "outputs": [],
   "source": [
    "# Abro el archivo dejardines y lo inicializo con BeautifulSoup\n",
    "data_path = '../datos/crudos/jardines.kml'\n",
    "\n",
    "data = open(data_path).read()\n",
    "bs = BeautifulSoup(data, \"lxml\")"
   ]
  },
  {
   "cell_type": "code",
   "execution_count": 4,
   "metadata": {
    "collapsed": false
   },
   "outputs": [],
   "source": [
    "# Extraigo los nombres y las coordinadas\n",
    "\n",
    "names = [name.text for name in bs.find_all('name')][2:]\n",
    "coordinates = [coord.text for coord in bs.find_all('coordinates')]"
   ]
  },
  {
   "cell_type": "code",
   "execution_count": 5,
   "metadata": {
    "collapsed": false
   },
   "outputs": [
    {
     "data": {
      "text/plain": [
       "(36, 36)"
      ]
     },
     "execution_count": 5,
     "metadata": {},
     "output_type": "execute_result"
    }
   ],
   "source": [
    "len(names), len(coordinates)"
   ]
  },
  {
   "cell_type": "code",
   "execution_count": 6,
   "metadata": {
    "collapsed": false
   },
   "outputs": [
    {
     "data": {
      "text/plain": [
       "'-64.21151,-31.481543,0.0'"
      ]
     },
     "execution_count": 6,
     "metadata": {},
     "output_type": "execute_result"
    }
   ],
   "source": [
    "# las coordinadas tienen el valor en z y no lo necesito\n",
    "coordinates[0]"
   ]
  },
  {
   "cell_type": "code",
   "execution_count": 7,
   "metadata": {
    "collapsed": true
   },
   "outputs": [],
   "source": [
    "features = []\n",
    "\n",
    "for name, coord in zip(names, coordinates):\n",
    "    # elimino el parametro de z\n",
    "    lat, lng, z = coord.split(',')\n",
    "    \n",
    "    new_element = {\n",
    "        \"geometry\": {\n",
    "            \"coordinates\": [float(lat), float(lng)],\n",
    "            \"type\": \"Point\"\n",
    "        },\n",
    "        \"type\": \"Feature\",\n",
    "        \"properties\": {\n",
    "            \"name\": \"Centro Infantil \" + name.title(),\n",
    "            \"type\": \"educacion\"\n",
    "        }\n",
    "    }\n",
    "    \n",
    "    features.append(new_element)"
   ]
  },
  {
   "cell_type": "code",
   "execution_count": 8,
   "metadata": {
    "collapsed": false
   },
   "outputs": [],
   "source": [
    "# Ahora agrego los colegios\n",
    "\n",
    "data_path = '../datos/crudos/escuelas.kml'\n",
    "\n",
    "data = open(data_path).read()\n",
    "bs = BeautifulSoup(data, \"lxml\")"
   ]
  },
  {
   "cell_type": "code",
   "execution_count": 9,
   "metadata": {
    "collapsed": false
   },
   "outputs": [],
   "source": [
    "# Extraigo los nombres y las coordinadas\n",
    "\n",
    "names = [name.text for name in bs.find_all('name')][2:]\n",
    "coordinates = [coord.text for coord in bs.find_all('coordinates')]"
   ]
  },
  {
   "cell_type": "code",
   "execution_count": 10,
   "metadata": {
    "collapsed": false
   },
   "outputs": [
    {
     "data": {
      "text/plain": [
       "(38, 38)"
      ]
     },
     "execution_count": 10,
     "metadata": {},
     "output_type": "execute_result"
    }
   ],
   "source": [
    "len(names), len(coordinates)"
   ]
  },
  {
   "cell_type": "code",
   "execution_count": 11,
   "metadata": {
    "collapsed": true
   },
   "outputs": [],
   "source": [
    "for name, coord in zip(names, coordinates):\n",
    "    # elimino el parametro de z\n",
    "    lat, lng, z = coord.split(',')\n",
    "    \n",
    "    new_element = {\n",
    "        \"geometry\": {\n",
    "            \"coordinates\": [float(lat), float(lng)],\n",
    "            \"type\": \"Point\"\n",
    "        },\n",
    "        \"type\": \"Feature\",\n",
    "        \"properties\": {\n",
    "            \"name\": \"Escuela \" + name.title(),\n",
    "            \"type\": \"educacion\"\n",
    "        }\n",
    "    }\n",
    "    \n",
    "    features.append(new_element)"
   ]
  },
  {
   "cell_type": "code",
   "execution_count": 12,
   "metadata": {
    "collapsed": false
   },
   "outputs": [
    {
     "data": {
      "text/plain": [
       "{'geometry': {'coordinates': [-64.128646, -31.457387], 'type': 'Point'},\n",
       " 'properties': {'name': 'Escuela Domingo F Sarmiento', 'type': 'educacion'},\n",
       " 'type': 'Feature'}"
      ]
     },
     "execution_count": 12,
     "metadata": {},
     "output_type": "execute_result"
    }
   ],
   "source": [
    "features[-1]"
   ]
  },
  {
   "cell_type": "code",
   "execution_count": 13,
   "metadata": {
    "collapsed": true
   },
   "outputs": [],
   "source": [
    "geojson = {\n",
    "    \"type\": \"FeatureCollection\",\n",
    "    \"features\": features\n",
    "    }\n",
    "\n",
    "save2json('../datos/educacion.geojson', geojson)"
   ]
  },
  {
   "cell_type": "code",
   "execution_count": null,
   "metadata": {
    "collapsed": true
   },
   "outputs": [],
   "source": []
  }
 ],
 "metadata": {
  "anaconda-cloud": {},
  "kernelspec": {
   "display_name": "Python [conda root]",
   "language": "python",
   "name": "conda-root-py"
  },
  "language_info": {
   "codemirror_mode": {
    "name": "ipython",
    "version": 3
   },
   "file_extension": ".py",
   "mimetype": "text/x-python",
   "name": "python",
   "nbconvert_exporter": "python",
   "pygments_lexer": "ipython3",
   "version": "3.5.2"
  }
 },
 "nbformat": 4,
 "nbformat_minor": 1
}
