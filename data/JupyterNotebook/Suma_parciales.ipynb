{
 "cells": [
  {
   "cell_type": "code",
   "execution_count": 1,
   "metadata": {
    "collapsed": true
   },
   "outputs": [],
   "source": [
    "import json\n",
    "\n",
    "import numpy as np"
   ]
  },
  {
   "cell_type": "code",
   "execution_count": 2,
   "metadata": {
    "collapsed": true
   },
   "outputs": [],
   "source": [
    "def read4json(file_path):\n",
    "    \"\"\"\n",
    "    Leo la un json y lo retorno\n",
    "\n",
    "    Parameter\n",
    "    ---------\n",
    "    file_path : str\n",
    "      Path al json\n",
    "    \"\"\"\n",
    "    with open(file_path, 'r') as data_file:\n",
    "        data = json.load(data_file)\n",
    "    return data\n",
    "\n",
    "\n",
    "def save2json(file_path, data):\n",
    "    \"\"\"\n",
    "    Salvo un dic a un json\n",
    "\n",
    "    Parameters\n",
    "    ----------\n",
    "    file_path: str\n",
    "      Path al json\n",
    "    data: dic\n",
    "      Diccionario a guardar\n",
    "    \"\"\"\n",
    "    with open(file_path, 'w') as data_file:\n",
    "        json.dump(data, data_file, indent=4)"
   ]
  },
  {
   "cell_type": "code",
   "execution_count": 3,
   "metadata": {
    "collapsed": false
   },
   "outputs": [],
   "source": [
    "cortaderos = read4json('../cortaderos.geojson')"
   ]
  },
  {
   "cell_type": "code",
   "execution_count": 4,
   "metadata": {
    "collapsed": false
   },
   "outputs": [],
   "source": [
    "suma_agua = np.zeros(6)\n",
    "suma_gas = np.zeros(6)\n",
    "suma_vivienda = np.zeros(9)\n",
    "suma_area = np.zeros(3)\n",
    "suma_banio= np.zeros(2)\n",
    "suma_hacinamiento = np.zeros(6)\n",
    "suma_educacion = np.zeros(9)\n",
    "suma_electri = 0\n",
    "suma_densidad = 0\n",
    "\n",
    "for cortadero in cortaderos['features']:\n",
    "    suma_agua[0] += cortadero['properties']['acceso_agua']['Agua de lluvia, río, canal, arroyo o acequia']\n",
    "    suma_agua[1] += cortadero['properties']['acceso_agua']['Perforación con bomba a motor']\n",
    "    suma_agua[2] += cortadero['properties']['acceso_agua']['Perforación con bomba manual']\n",
    "    suma_agua[3] += cortadero['properties']['acceso_agua']['Pozo']\n",
    "    suma_agua[4] += cortadero['properties']['acceso_agua']['Red pública']\n",
    "    suma_agua[5] += cortadero['properties']['acceso_agua']['Transporte por cisterna']\n",
    "    \n",
    "    suma_gas[0] += cortadero['properties']['acceso_gas']['Gas a granel']\n",
    "    suma_gas[1] += cortadero['properties']['acceso_gas']['Gas de red']\n",
    "    suma_gas[2] += cortadero['properties']['acceso_gas']['Gas en garrafa']\n",
    "    suma_gas[3] += cortadero['properties']['acceso_gas']['Gas en tubo']\n",
    "    suma_gas[4] += cortadero['properties']['acceso_gas']['Leña o carbón']\n",
    "    suma_gas[5] += cortadero['properties']['acceso_gas']['Otro']\n",
    "    \n",
    "    suma_vivienda[0] += cortadero['properties'][\"vivienda\"][\"Casa\"]\n",
    "    suma_vivienda[1] += cortadero['properties'][\"vivienda\"][\"Pieza en hotel familiar o pensión\"]\n",
    "    suma_vivienda[2] += cortadero['properties'][\"vivienda\"][\"Departamento\"]\n",
    "    suma_vivienda[3] += cortadero['properties'][\"vivienda\"][\"Pieza en inquilinato\"]\n",
    "    suma_vivienda[4] += cortadero['properties'][\"vivienda\"][\"Casilla\"]\n",
    "    suma_vivienda[5] += cortadero['properties'][\"vivienda\"][\"Persona/s viviendo en la calle\"]\n",
    "    suma_vivienda[6] += cortadero['properties'][\"vivienda\"][\"Rancho\"]\n",
    "    suma_vivienda[7] += cortadero['properties'][\"vivienda\"][\"Local no construido para habitación\"]\n",
    "    suma_vivienda[8] += cortadero['properties'][\"vivienda\"][\"Vivienda móvil\"]\n",
    "                                                            \n",
    "    suma_area[0] += cortadero['properties'][\"area\"][\"Vivienda area Rural disperso\"]\n",
    "    suma_area[1] += cortadero['properties'][\"area\"][\"Vivienda area Urbano\"]\n",
    "    suma_area[2] += cortadero['properties'][\"area\"][\"Vivienda area Rural agrupado\"]\n",
    "    \n",
    "    suma_banio[0] += cortadero['properties']['banio'][\"No tiene baño o letrina\"]\n",
    "    suma_banio[1] += cortadero['properties']['banio'][\"Tiene baño o letrina\"]\n",
    "    \n",
    "    suma_hacinamiento[0] += cortadero['properties']['hacinaiento'][\"hacinamiento: 1.50  -  1.99  personas por cuarto\"]\n",
    "    suma_hacinamiento[1] += cortadero['properties']['hacinaiento'][\"hacinamiento: Más de  3.00 personas por cuarto\"]\n",
    "    suma_hacinamiento[2] += cortadero['properties']['hacinaiento'][\"hacinamiento: 0.51  -  0.99  personas por cuarto\"]\n",
    "    suma_hacinamiento[3] += cortadero['properties']['hacinaiento'][\"hacinamiento: 1.00  -  1.49  personas por cuarto\"]\n",
    "    suma_hacinamiento[4] += cortadero['properties']['hacinaiento'][\"hacinamiento: Hasta   0.50 personas por cuarto\"]\n",
    "    suma_hacinamiento[5] += cortadero['properties']['hacinaiento'][\"hacinamiento: 2.00  -  3.00  personas por cuarto\"]\n",
    "    \n",
    "    suma_educacion[0] += cortadero['properties'][\"educacion\"][\"Nivel educativo que cursa o cursó: Post universitario\"]\n",
    "    suma_educacion[1] += cortadero['properties'][\"educacion\"][\"Nivel educativo que cursa o cursó: Primario\"]\n",
    "    suma_educacion[2] += cortadero['properties'][\"educacion\"][\"Nivel educativo que cursa o cursó: Educacion especial\"]\n",
    "    suma_educacion[3] += cortadero['properties'][\"educacion\"][\"Nivel educativo que cursa o cursó: Polimodal\"]\n",
    "    suma_educacion[4] += cortadero['properties'][\"educacion\"][\"Nivel educativo que cursa o cursó: Superior no universitario\"]\n",
    "    suma_educacion[5] += cortadero['properties'][\"educacion\"][\"Nivel educativo que cursa o cursó: Inicial (jardin, preescolar)\"]\n",
    "    suma_educacion[6] += cortadero['properties'][\"educacion\"][\"Nivel educativo que cursa o cursó: Universitario\"]\n",
    "    suma_educacion[7] += cortadero['properties'][\"educacion\"][\"Nivel educativo que cursa o cursó: EGB\"]\n",
    "    suma_educacion[8] += cortadero['properties'][\"educacion\"][\"Nivel educativo que cursa o cursó: Secundario\"]\n",
    "    \n",
    "    suma_electri += cortadero['properties']['acceso_gas']['Electricidad']\n",
    "    suma_densidad += cortadero['properties']['densidad']"
   ]
  },
  {
   "cell_type": "code",
   "execution_count": 5,
   "metadata": {
    "collapsed": false
   },
   "outputs": [],
   "source": [
    "porcen_agua = suma_agua/sum(suma_agua)*100\n",
    "porcen_gas = suma_gas/sum(suma_gas)*100"
   ]
  },
  {
   "cell_type": "code",
   "execution_count": 6,
   "metadata": {
    "collapsed": false
   },
   "outputs": [
    {
     "name": "stdout",
     "output_type": "stream",
     "text": [
      "Tipo de viviendas:\n",
      "* Casa: 86.65 %\n",
      "* Pieza en hotel familiar o pensión: 0.00 %\n",
      "* Departamento: 2.09 %\n",
      "* Pieza en inquilinato: 0.29 %\n",
      "* Casilla: 1.41 %\n",
      "* Persona/s viviendo en la calle: 0.01 %\n",
      "* Rancho: 9.44 %\n",
      "* Local no construido para habitación: 0.09 %\n",
      "* Vivienda móvil: 0.01 %\n",
      "\n",
      "Total de viviendas: 64292.0\n"
     ]
    }
   ],
   "source": [
    "text = \"\"\"Tipo de viviendas:\n",
    "* Casa: {0:.2f} %\n",
    "* Pieza en hotel familiar o pensión: {1:.2f} %\n",
    "* Departamento: {2:.2f} %\n",
    "* Pieza en inquilinato: {3:.2f} %\n",
    "* Casilla: {4:.2f} %\n",
    "* Persona/s viviendo en la calle: {5:.2f} %\n",
    "* Rancho: {6:.2f} %\n",
    "* Local no construido para habitación: {7:.2f} %\n",
    "* Vivienda móvil: {8:.2f} %\n",
    "\n",
    "Total de viviendas: {9}\"\"\".format(suma_vivienda[0]/sum(suma_vivienda)*100, suma_vivienda[1]/sum(suma_vivienda)*100,\n",
    "                                 suma_vivienda[2]/sum(suma_vivienda)*100, suma_vivienda[3]/sum(suma_vivienda)*100,\n",
    "                                 suma_vivienda[4]/sum(suma_vivienda)*100, suma_vivienda[5]/sum(suma_vivienda)*100,\n",
    "                                 suma_vivienda[6]/sum(suma_vivienda)*100, suma_vivienda[7]/sum(suma_vivienda)*100,\n",
    "                                 suma_vivienda[8]/sum(suma_vivienda)*100, sum(suma_vivienda))\n",
    "\n",
    "print(text)"
   ]
  },
  {
   "cell_type": "code",
   "execution_count": 7,
   "metadata": {
    "collapsed": false
   },
   "outputs": [
    {
     "name": "stdout",
     "output_type": "stream",
     "text": [
      "Porciento de area:\n",
      "* Vivienda area Rural disperso: 37.04 %\n",
      "* Vivienda area Urbano: 46.42 %\n",
      "* Vivienda area Rural agrupado: 16.54 %\n",
      "\n",
      "Total de familias: 64331.0\n"
     ]
    }
   ],
   "source": [
    "text = \"\"\"Porciento de area:\n",
    "* Vivienda area Rural disperso: {0:.2f} %\n",
    "* Vivienda area Urbano: {1:.2f} %\n",
    "* Vivienda area Rural agrupado: {2:.2f} %\n",
    "\n",
    "Total de familias: {3}\"\"\".format(suma_area[0]/sum(suma_area)*100, suma_area[1]/sum(suma_area)*100,\n",
    "                                 suma_area[2]/sum(suma_area)*100, sum(suma_area))\n",
    "\n",
    "print(text)"
   ]
  },
  {
   "cell_type": "code",
   "execution_count": 8,
   "metadata": {
    "collapsed": false
   },
   "outputs": [
    {
     "name": "stdout",
     "output_type": "stream",
     "text": [
      "Acceso a baño:\n",
      "* No tiene baño o letrina: 8.23 %\n",
      "* Tiene baño o letrina: 91.77 %\n",
      "\n",
      "Total de hogares: 58948.0\n"
     ]
    }
   ],
   "source": [
    "text = \"\"\"Acceso a baño:\n",
    "* No tiene baño o letrina: {0:.2f} %\n",
    "* Tiene baño o letrina: {1:.2f} %\n",
    "\n",
    "Total de hogares: {2}\"\"\".format(suma_banio[0]/sum(suma_banio)*100, suma_banio[1]/sum(suma_banio)*100, sum(suma_banio))\n",
    "\n",
    "print(text)"
   ]
  },
  {
   "cell_type": "code",
   "execution_count": 9,
   "metadata": {
    "collapsed": false
   },
   "outputs": [
    {
     "name": "stdout",
     "output_type": "stream",
     "text": [
      "Hacinamiento:\n",
      "* hacinamiento: 1.50  -  1.99  personas por cuarto: 11.23 %\n",
      "* hacinamiento: Más de  3.00 personas por cuarto: 10.25 %\n",
      "* hacinamiento: 0.51  -  0.99  personas por cuarto: 11.74 %\n",
      "* hacinamiento: 1.00  -  1.49  personas por cuarto: 28.63 %\n",
      "* hacinamiento: Hasta   0.50 personas por cuarto: 12.11 %\n",
      "* hacinamiento: 2.00  -  3.00  personas por cuarto: 26.04 %\n",
      "\n",
      "Total de familias: 58948.0\n"
     ]
    }
   ],
   "source": [
    "text = \"\"\"Hacinamiento:\n",
    "* hacinamiento: 1.50  -  1.99  personas por cuarto: {0:.2f} %\n",
    "* hacinamiento: Más de  3.00 personas por cuarto: {1:.2f} %\n",
    "* hacinamiento: 0.51  -  0.99  personas por cuarto: {2:.2f} %\n",
    "* hacinamiento: 1.00  -  1.49  personas por cuarto: {3:.2f} %\n",
    "* hacinamiento: Hasta   0.50 personas por cuarto: {4:.2f} %\n",
    "* hacinamiento: 2.00  -  3.00  personas por cuarto: {5:.2f} %\n",
    "\n",
    "Total de familias: {6}\"\"\".format(suma_hacinamiento[0]/sum(suma_hacinamiento)*100, suma_hacinamiento[1]/sum(suma_hacinamiento)*100,\n",
    "                                 suma_hacinamiento[2]/sum(suma_hacinamiento)*100, suma_hacinamiento[3]/sum(suma_hacinamiento)*100,\n",
    "                                 suma_hacinamiento[4]/sum(suma_hacinamiento)*100, suma_hacinamiento[5]/sum(suma_hacinamiento)*100,\n",
    "                                 sum(suma_hacinamiento))\n",
    "\n",
    "print(text)"
   ]
  },
  {
   "cell_type": "code",
   "execution_count": 10,
   "metadata": {
    "collapsed": false
   },
   "outputs": [
    {
     "name": "stdout",
     "output_type": "stream",
     "text": [
      "Educacion:\n",
      "* Nivel educativo que cursa o cursó: Post universitario: 0.23 %\n",
      "* Nivel educativo que cursa o cursó: Primario: 49.78 %\n",
      "* Nivel educativo que cursa o cursó: Educacion especial: 0.41 %\n",
      "* Nivel educativo que cursa o cursó: Polimodal: 0.81 %\n",
      "* Nivel educativo que cursa o cursó: Superior no universitario: 3.03 %\n",
      "* Nivel educativo que cursa o cursó: Inicial (jardin, preescolar): 6.16 %\n",
      "* Nivel educativo que cursa o cursó: Universitario: 4.90 %\n",
      "* Nivel educativo que cursa o cursó: EGB: 1.73 %\n",
      "* Nivel educativo que cursa o cursó: Secundario: 32.95 %\n",
      "\n",
      "Total de familias: 195751.0\n"
     ]
    }
   ],
   "source": [
    "text = \"\"\"Educacion:\n",
    "* Nivel educativo que cursa o cursó: Post universitario: {0:.2f} %\n",
    "* Nivel educativo que cursa o cursó: Primario: {1:.2f} %\n",
    "* Nivel educativo que cursa o cursó: Educacion especial: {2:.2f} %\n",
    "* Nivel educativo que cursa o cursó: Polimodal: {3:.2f} %\n",
    "* Nivel educativo que cursa o cursó: Superior no universitario: {4:.2f} %\n",
    "* Nivel educativo que cursa o cursó: Inicial (jardin, preescolar): {5:.2f} %\n",
    "* Nivel educativo que cursa o cursó: Universitario: {6:.2f} %\n",
    "* Nivel educativo que cursa o cursó: EGB: {7:.2f} %\n",
    "* Nivel educativo que cursa o cursó: Secundario: {8:.2f} %\n",
    "\n",
    "Total de familias: {9}\"\"\".format(suma_educacion[0]/sum(suma_educacion)*100, suma_educacion[1]/sum(suma_educacion)*100,\n",
    "                                 suma_educacion[2]/sum(suma_educacion)*100, suma_educacion[3]/sum(suma_educacion)*100,\n",
    "                                 suma_educacion[4]/sum(suma_educacion)*100, suma_educacion[5]/sum(suma_educacion)*100,\n",
    "                                 suma_educacion[6]/sum(suma_educacion)*100, suma_educacion[7]/sum(suma_educacion)*100,\n",
    "                                 suma_educacion[8]/sum(suma_educacion)*100, sum(suma_educacion))\n",
    "\n",
    "print(text)"
   ]
  },
  {
   "cell_type": "code",
   "execution_count": 11,
   "metadata": {
    "collapsed": false
   },
   "outputs": [
    {
     "name": "stdout",
     "output_type": "stream",
     "text": [
      "Porciento de usuarios que tiene acceso a agua mediante:\n",
      "* Luvia, río: 0.87 %\n",
      "* Perforación con bomba a motor: 7.65 %\n",
      "* Perforación con bomba manual: 0.55 %\n",
      "* Pozo: 7.47 %\n",
      "* Red pública: 69.31 %\n",
      "* Transporte por cisterna: 14.15 %\n",
      "\n",
      "Total de familias: 58948.0\n"
     ]
    }
   ],
   "source": [
    "text = \"\"\"Porciento de usuarios que tiene acceso a agua mediante:\n",
    "* Luvia, río: {0:.2f} %\n",
    "* Perforación con bomba a motor: {1:.2f} %\n",
    "* Perforación con bomba manual: {2:.2f} %\n",
    "* Pozo: {3:.2f} %\n",
    "* Red pública: {4:.2f} %\n",
    "* Transporte por cisterna: {5:.2f} %\n",
    "\n",
    "Total de familias: {6}\"\"\".format(porcen_agua[0], porcen_agua[1], porcen_agua[2],\n",
    "                                 porcen_agua[3], porcen_agua[4], porcen_agua[5], sum(suma_agua))\n",
    "\n",
    "print(text)"
   ]
  },
  {
   "cell_type": "code",
   "execution_count": 12,
   "metadata": {
    "collapsed": false
   },
   "outputs": [
    {
     "name": "stdout",
     "output_type": "stream",
     "text": [
      "Porciento de usuarios que tienen acceso a gas mediante:\n",
      "* Gas a granel: 1.21%\n",
      "* Gas de red: 11.05%\n",
      "* Gas en garrafa: 77.82%\n",
      "* Gas en tubo: 5.82%\n",
      "* Leña o carbón: 3.73%\n",
      "* Otro: 0.36%\n",
      "\n",
      "Total de familias: 58545.0\n"
     ]
    }
   ],
   "source": [
    "text = \"\"\"Porciento de usuarios que tienen acceso a gas mediante:\n",
    "* Gas a granel: {0:.2f}%\n",
    "* Gas de red: {1:.2f}%\n",
    "* Gas en garrafa: {2:.2f}%\n",
    "* Gas en tubo: {3:.2f}%\n",
    "* Leña o carbón: {4:.2f}%\n",
    "* Otro: {5:.2f}%\n",
    "\n",
    "Total de familias: {6}\"\"\".format(porcen_gas[0], porcen_gas[1], porcen_gas[2], porcen_gas[3], \n",
    "                                 porcen_gas[4], porcen_gas[5], sum(suma_gas))\n",
    "\n",
    "print(text)"
   ]
  },
  {
   "cell_type": "code",
   "execution_count": null,
   "metadata": {
    "collapsed": true
   },
   "outputs": [],
   "source": []
  }
 ],
 "metadata": {
  "anaconda-cloud": {},
  "kernelspec": {
   "display_name": "Python [conda root]",
   "language": "python",
   "name": "conda-root-py"
  },
  "language_info": {
   "codemirror_mode": {
    "name": "ipython",
    "version": 3
   },
   "file_extension": ".py",
   "mimetype": "text/x-python",
   "name": "python",
   "nbconvert_exporter": "python",
   "pygments_lexer": "ipython3",
   "version": "3.5.2"
  }
 },
 "nbformat": 4,
 "nbformat_minor": 2
}
