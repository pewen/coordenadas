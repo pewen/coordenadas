{
 "cells": [
  {
   "cell_type": "code",
   "execution_count": 1,
   "metadata": {
    "collapsed": true
   },
   "outputs": [],
   "source": [
    "import json\n",
    "\n",
    "import pandas as pd"
   ]
  },
  {
   "cell_type": "code",
   "execution_count": 2,
   "metadata": {
    "collapsed": true
   },
   "outputs": [],
   "source": [
    "def read4json(file_path):\n",
    "    \"\"\"\n",
    "    Leo la un json y lo retorno\n",
    "\n",
    "    Parameter\n",
    "    ---------\n",
    "    file_path : str\n",
    "      Path al json\n",
    "    \"\"\"\n",
    "    with open(file_path, 'r') as data_file:\n",
    "        data = json.load(data_file)\n",
    "    return data\n",
    "\n",
    "\n",
    "def save2json(file_path, data):\n",
    "    \"\"\"\n",
    "    Salvo un dic a un json\n",
    "\n",
    "    Parameters\n",
    "    ----------\n",
    "    file_path: str\n",
    "      Path al json\n",
    "    data: dic\n",
    "      Diccionario a guardar\n",
    "    \"\"\"\n",
    "    with open(file_path, 'w') as data_file:\n",
    "        json.dump(data, data_file, indent=4)"
   ]
  },
  {
   "cell_type": "code",
   "execution_count": 3,
   "metadata": {
    "collapsed": false
   },
   "outputs": [
    {
     "data": {
      "text/plain": [
       "['Hoja1', 'Hoja2', 'Hoja3']"
      ]
     },
     "execution_count": 3,
     "metadata": {},
     "output_type": "execute_result"
    }
   ],
   "source": [
    "xl = pd.ExcelFile('Dispensarios cortaderos.xlsx')\n",
    "xl.sheet_names"
   ]
  },
  {
   "cell_type": "code",
   "execution_count": 4,
   "metadata": {
    "collapsed": false
   },
   "outputs": [
    {
     "data": {
      "text/html": [
       "<div>\n",
       "<table border=\"1\" class=\"dataframe\">\n",
       "  <thead>\n",
       "    <tr style=\"text-align: right;\">\n",
       "      <th></th>\n",
       "      <th>nombre</th>\n",
       "      <th>direccion</th>\n",
       "      <th>departamento</th>\n",
       "      <th>coordinadas</th>\n",
       "    </tr>\n",
       "  </thead>\n",
       "  <tbody>\n",
       "    <tr>\n",
       "      <th>0</th>\n",
       "      <td>HOSP. VICENTE AGÜERO - JESUS MARIA</td>\n",
       "      <td>Av España 121</td>\n",
       "      <td>JESUS MARIA</td>\n",
       "      <td>-30.977304, -64.089542</td>\n",
       "    </tr>\n",
       "    <tr>\n",
       "      <th>1</th>\n",
       "      <td>DISP MUNICIPAL LOTE XV COLONIA CAROYA</td>\n",
       "      <td>SAN MARTIN 3697</td>\n",
       "      <td>COLONIA CAROYA</td>\n",
       "      <td>-31.018710, -64.064614</td>\n",
       "    </tr>\n",
       "    <tr>\n",
       "      <th>2</th>\n",
       "      <td>DISP. JUAREZ CELMAN</td>\n",
       "      <td>Av. La Tradición (a 50 mts del Municipio)</td>\n",
       "      <td>ESTACION JUAREZ CELMAN</td>\n",
       "      <td>-31.255883, -64.166723</td>\n",
       "    </tr>\n",
       "    <tr>\n",
       "      <th>3</th>\n",
       "      <td>DISP. MALVINAS ARGENTINAS</td>\n",
       "      <td>PRESIDENTE ILLIA ESQ SAN MARTIN</td>\n",
       "      <td>MALVINAS ARGENTINAS</td>\n",
       "      <td>-31.369689, -64.051140</td>\n",
       "    </tr>\n",
       "    <tr>\n",
       "      <th>4</th>\n",
       "      <td>DISPENSARIO MUNICIPAL COLONIA TIROLESA</td>\n",
       "      <td>RUTA \"A\" 74 KM 26 1/2</td>\n",
       "      <td>COLONIA TIROLESA</td>\n",
       "      <td>-31.236797, -64.066853</td>\n",
       "    </tr>\n",
       "    <tr>\n",
       "      <th>5</th>\n",
       "      <td>DISP. MONTE CRISTO</td>\n",
       "      <td>LINARES DAVID 385</td>\n",
       "      <td>MONTE CRISTO</td>\n",
       "      <td>-31.342404, -63.949273</td>\n",
       "    </tr>\n",
       "    <tr>\n",
       "      <th>6</th>\n",
       "      <td>CENTRO DE SALUD</td>\n",
       "      <td>AV. SUQUIA S/N. ENTRE RIVADAVIA Y BELGRANO</td>\n",
       "      <td>CAPILLA DE LOS REMEDIOS</td>\n",
       "      <td>-31.427237, -63.836228</td>\n",
       "    </tr>\n",
       "    <tr>\n",
       "      <th>7</th>\n",
       "      <td>DISPENSARIO COMUNAL DE ESQUINA</td>\n",
       "      <td>VIRGEN DEL ROSARIO E/ CALLE PRINCIPAL Y LIBERTAD</td>\n",
       "      <td>ESQUINA</td>\n",
       "      <td>-31.077494, -63.795522</td>\n",
       "    </tr>\n",
       "    <tr>\n",
       "      <th>8</th>\n",
       "      <td>H.M. OBISPO TREJO</td>\n",
       "      <td>GRAL PAZ 1150</td>\n",
       "      <td>OBISPO TREJO</td>\n",
       "      <td>-30.782265, -63.412281</td>\n",
       "    </tr>\n",
       "    <tr>\n",
       "      <th>9</th>\n",
       "      <td>DISPENSARIO</td>\n",
       "      <td>25 DE MAYO OESTE 30</td>\n",
       "      <td>PIQUILLIN</td>\n",
       "      <td>-31.299069, -63.759020</td>\n",
       "    </tr>\n",
       "    <tr>\n",
       "      <th>10</th>\n",
       "      <td>CENTRO DE SALUD MUNICIPAL</td>\n",
       "      <td>SARMIENTO 630</td>\n",
       "      <td>RIO PRIMERO</td>\n",
       "      <td>-31.327820, -63.630216</td>\n",
       "    </tr>\n",
       "    <tr>\n",
       "      <th>11</th>\n",
       "      <td>CS MUNIC. DE PILAR \"MADRE TERESA DE CALCUTA\"</td>\n",
       "      <td>TOMAS GARZON  837</td>\n",
       "      <td>PILAR</td>\n",
       "      <td>-31.683122, -63.881654</td>\n",
       "    </tr>\n",
       "    <tr>\n",
       "      <th>12</th>\n",
       "      <td>HOSPITAL MUNICIPAL</td>\n",
       "      <td>JULIO A ROCA</td>\n",
       "      <td>RIO SEGUNDO</td>\n",
       "      <td>-31.653673, -63.911631</td>\n",
       "    </tr>\n",
       "    <tr>\n",
       "      <th>13</th>\n",
       "      <td>CENTRO DE SALUD ALTA GRACIA N°3</td>\n",
       "      <td>Urquiza 358</td>\n",
       "      <td>ALTA GRACIA</td>\n",
       "      <td>-31.661504, -64.431150</td>\n",
       "    </tr>\n",
       "    <tr>\n",
       "      <th>14</th>\n",
       "      <td>CENTRO DE SALUD Bº SAN NICOLAS</td>\n",
       "      <td>Calle Pública S/N. Bº San Nicolás</td>\n",
       "      <td>MALAGUEÑO</td>\n",
       "      <td>-31.435821, -64.446015</td>\n",
       "    </tr>\n",
       "    <tr>\n",
       "      <th>15</th>\n",
       "      <td>JESUS MARIA MUNICIPAL</td>\n",
       "      <td>Alberdi 560</td>\n",
       "      <td>NaN</td>\n",
       "      <td>-30.980897, -64.088256</td>\n",
       "    </tr>\n",
       "    <tr>\n",
       "      <th>16</th>\n",
       "      <td>La Juanita</td>\n",
       "      <td>Malagueño</td>\n",
       "      <td>NaN</td>\n",
       "      <td>-30.980897, -64.088256</td>\n",
       "    </tr>\n",
       "    <tr>\n",
       "      <th>17</th>\n",
       "      <td>Villa Parque Santa Ana</td>\n",
       "      <td>Villa Parque Santa Ana</td>\n",
       "      <td>NaN</td>\n",
       "      <td>-31.589484, -64.353996</td>\n",
       "    </tr>\n",
       "    <tr>\n",
       "      <th>18</th>\n",
       "      <td>HOSPITAL MUNICIPAL</td>\n",
       "      <td>Santa rosa de rio primero</td>\n",
       "      <td>SANTA ROSA DE RIO PRIMERO</td>\n",
       "      <td>-31.157135, -63.408709</td>\n",
       "    </tr>\n",
       "  </tbody>\n",
       "</table>\n",
       "</div>"
      ],
      "text/plain": [
       "                                          nombre  \\\n",
       "0             HOSP. VICENTE AGÜERO - JESUS MARIA   \n",
       "1          DISP MUNICIPAL LOTE XV COLONIA CAROYA   \n",
       "2                            DISP. JUAREZ CELMAN   \n",
       "3                      DISP. MALVINAS ARGENTINAS   \n",
       "4         DISPENSARIO MUNICIPAL COLONIA TIROLESA   \n",
       "5                             DISP. MONTE CRISTO   \n",
       "6                                CENTRO DE SALUD   \n",
       "7                 DISPENSARIO COMUNAL DE ESQUINA   \n",
       "8                              H.M. OBISPO TREJO   \n",
       "9                                    DISPENSARIO   \n",
       "10                     CENTRO DE SALUD MUNICIPAL   \n",
       "11  CS MUNIC. DE PILAR \"MADRE TERESA DE CALCUTA\"   \n",
       "12                            HOSPITAL MUNICIPAL   \n",
       "13               CENTRO DE SALUD ALTA GRACIA N°3   \n",
       "14                CENTRO DE SALUD Bº SAN NICOLAS   \n",
       "15                         JESUS MARIA MUNICIPAL   \n",
       "16                                    La Juanita   \n",
       "17                        Villa Parque Santa Ana   \n",
       "18                            HOSPITAL MUNICIPAL   \n",
       "\n",
       "                                            direccion  \\\n",
       "0                                       Av España 121   \n",
       "1                                     SAN MARTIN 3697   \n",
       "2           Av. La Tradición (a 50 mts del Municipio)   \n",
       "3                     PRESIDENTE ILLIA ESQ SAN MARTIN   \n",
       "4                               RUTA \"A\" 74 KM 26 1/2   \n",
       "5                                   LINARES DAVID 385   \n",
       "6          AV. SUQUIA S/N. ENTRE RIVADAVIA Y BELGRANO   \n",
       "7   VIRGEN DEL ROSARIO E/ CALLE PRINCIPAL Y LIBERTAD    \n",
       "8                                       GRAL PAZ 1150   \n",
       "9                                 25 DE MAYO OESTE 30   \n",
       "10                                      SARMIENTO 630   \n",
       "11                                  TOMAS GARZON  837   \n",
       "12                                       JULIO A ROCA   \n",
       "13                                        Urquiza 358   \n",
       "14                  Calle Pública S/N. Bº San Nicolás   \n",
       "15                                        Alberdi 560   \n",
       "16                                          Malagueño   \n",
       "17                             Villa Parque Santa Ana   \n",
       "18                          Santa rosa de rio primero   \n",
       "\n",
       "                 departamento             coordinadas  \n",
       "0                 JESUS MARIA  -30.977304, -64.089542  \n",
       "1              COLONIA CAROYA  -31.018710, -64.064614  \n",
       "2      ESTACION JUAREZ CELMAN  -31.255883, -64.166723  \n",
       "3         MALVINAS ARGENTINAS  -31.369689, -64.051140  \n",
       "4            COLONIA TIROLESA  -31.236797, -64.066853  \n",
       "5                MONTE CRISTO  -31.342404, -63.949273  \n",
       "6     CAPILLA DE LOS REMEDIOS  -31.427237, -63.836228  \n",
       "7                     ESQUINA  -31.077494, -63.795522  \n",
       "8                OBISPO TREJO  -30.782265, -63.412281  \n",
       "9                   PIQUILLIN  -31.299069, -63.759020  \n",
       "10                RIO PRIMERO  -31.327820, -63.630216  \n",
       "11                      PILAR  -31.683122, -63.881654  \n",
       "12                RIO SEGUNDO  -31.653673, -63.911631  \n",
       "13                ALTA GRACIA  -31.661504, -64.431150  \n",
       "14                  MALAGUEÑO  -31.435821, -64.446015  \n",
       "15                        NaN  -30.980897, -64.088256  \n",
       "16                        NaN  -30.980897, -64.088256  \n",
       "17                        NaN  -31.589484, -64.353996  \n",
       "18  SANTA ROSA DE RIO PRIMERO  -31.157135, -63.408709  "
      ]
     },
     "execution_count": 4,
     "metadata": {},
     "output_type": "execute_result"
    }
   ],
   "source": [
    "df = xl.parse(\"Hoja1\")\n",
    "df"
   ]
  },
  {
   "cell_type": "code",
   "execution_count": 8,
   "metadata": {
    "collapsed": false
   },
   "outputs": [
    {
     "data": {
      "text/plain": [
       "(-64.089542, -30.977304)"
      ]
     },
     "execution_count": 8,
     "metadata": {},
     "output_type": "execute_result"
    }
   ],
   "source": [
    "lat, long = df.coordinadas[0].split(',')\n",
    "lat = float(lat)\n",
    "long = float(long)\n",
    "\n",
    "long, lat"
   ]
  },
  {
   "cell_type": "code",
   "execution_count": 10,
   "metadata": {
    "collapsed": false
   },
   "outputs": [
    {
     "data": {
      "text/plain": [
       "19"
      ]
     },
     "execution_count": 10,
     "metadata": {},
     "output_type": "execute_result"
    }
   ],
   "source": [
    "features = []\n",
    "\n",
    "for i in range(df.shape[0]):\n",
    "    lat, long = df.iloc[i].coordinadas.split(',')\n",
    "    \n",
    "    features.append({\"geometry\": {\n",
    "    \"coordinates\": [float(long), float(lat)], \n",
    "    \"type\": \"Point\"\n",
    "    },\n",
    "     \"properties\": {\n",
    "        'nombre': df.iloc[i]['nombre'],\n",
    "        \"type\": \"salud\"\n",
    "    },\n",
    " \"type\": \"Feature\"\n",
    "})\n",
    "    \n",
    "len(features)"
   ]
  },
  {
   "cell_type": "code",
   "execution_count": 11,
   "metadata": {
    "collapsed": true
   },
   "outputs": [],
   "source": [
    "salud = read4json('./../salud.geojson')"
   ]
  },
  {
   "cell_type": "code",
   "execution_count": 13,
   "metadata": {
    "collapsed": false
   },
   "outputs": [
    {
     "data": {
      "text/plain": [
       "48"
      ]
     },
     "execution_count": 13,
     "metadata": {},
     "output_type": "execute_result"
    }
   ],
   "source": [
    "len(salud['features'])"
   ]
  },
  {
   "cell_type": "code",
   "execution_count": 14,
   "metadata": {
    "collapsed": false
   },
   "outputs": [
    {
     "data": {
      "text/plain": [
       "67"
      ]
     },
     "execution_count": 14,
     "metadata": {},
     "output_type": "execute_result"
    }
   ],
   "source": [
    "new_features = features + salud['features']\n",
    "len(new_features)"
   ]
  },
  {
   "cell_type": "code",
   "execution_count": 15,
   "metadata": {
    "collapsed": true
   },
   "outputs": [],
   "source": [
    "data = {'features': new_features,\n",
    "        \"type\": \"FeatureCollection\"}\n",
    "\n",
    "save2json('./../salud.geojson', data)"
   ]
  },
  {
   "cell_type": "code",
   "execution_count": null,
   "metadata": {
    "collapsed": true
   },
   "outputs": [],
   "source": []
  }
 ],
 "metadata": {
  "anaconda-cloud": {},
  "kernelspec": {
   "display_name": "Python [conda root]",
   "language": "python",
   "name": "conda-root-py"
  },
  "language_info": {
   "codemirror_mode": {
    "name": "ipython",
    "version": 3
   },
   "file_extension": ".py",
   "mimetype": "text/x-python",
   "name": "python",
   "nbconvert_exporter": "python",
   "pygments_lexer": "ipython3",
   "version": "3.5.2"
  }
 },
 "nbformat": 4,
 "nbformat_minor": 2
}
