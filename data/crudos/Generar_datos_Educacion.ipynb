{
 "cells": [
  {
   "cell_type": "code",
   "execution_count": 1,
   "metadata": {
    "collapsed": true
   },
   "outputs": [],
   "source": [
    "import json\n",
    "import pandas as pd"
   ]
  },
  {
   "cell_type": "code",
   "execution_count": 2,
   "metadata": {
    "collapsed": true
   },
   "outputs": [],
   "source": [
    "def save2json(file_path, data):\n",
    "    \"\"\"\n",
    "    Salvo un dic a un json\n",
    "\n",
    "    Parameters\n",
    "    ----------\n",
    "    file_path: str\n",
    "      Path al json\n",
    "    data: dic\n",
    "      Diccionario a guardar\n",
    "    \"\"\"\n",
    "    with open(file_path, 'w') as data_file:\n",
    "        json.dump(data, data_file, indent=4)"
   ]
  },
  {
   "cell_type": "code",
   "execution_count": 3,
   "metadata": {
    "collapsed": false
   },
   "outputs": [
    {
     "data": {
      "text/plain": [
       "['Escuelas']"
      ]
     },
     "execution_count": 3,
     "metadata": {},
     "output_type": "execute_result"
    }
   ],
   "source": [
    "xl = pd.ExcelFile('Escuelas_20161207092310413.xlsx')\n",
    "xl.sheet_names"
   ]
  },
  {
   "cell_type": "code",
   "execution_count": 4,
   "metadata": {
    "collapsed": false
   },
   "outputs": [],
   "source": [
    "df = xl.parse(\"Escuelas\")"
   ]
  },
  {
   "cell_type": "code",
   "execution_count": 5,
   "metadata": {
    "collapsed": false
   },
   "outputs": [
    {
     "data": {
      "text/plain": [
       "Index(['codigo_empresa', 'numero_anexo', 'id_tipo_empresa', 'tipo_empresa',\n",
       "       'establecimiento', 'direccion_nivel', 'cue', 'cue_anexo',\n",
       "       'codigo_inspeccion', 'id_empresa_padre', 'id_escuela_madre',\n",
       "       'id_dependencia', 'dependencia', 'id_tipo_escuela', 'tipo_escuela',\n",
       "       'privado', 'id_ambito_escuela', 'ambito_escuela',\n",
       "       'id_categoria_escuela', 'categoria_escuela', 'id_tipo_jornada',\n",
       "       'tipo_jornada', 'id_modalidad_jornada', 'modalidad_jornada',\n",
       "       'hospitalaria', 'religioso', 'arancelado', 'albergue', 'colectivos',\n",
       "       'latitud', 'longitud', 'tipo_educacion', 'nivel_educativo', 'domicilio',\n",
       "       'barrio', 'id_localidad', 'localidad', 'id_departamento',\n",
       "       'departamento', 'nro_registro', 'fec_ultima_modificacion'],\n",
       "      dtype='object')"
      ]
     },
     "execution_count": 5,
     "metadata": {},
     "output_type": "execute_result"
    }
   ],
   "source": [
    "df.columns"
   ]
  },
  {
   "cell_type": "code",
   "execution_count": 6,
   "metadata": {
    "collapsed": false
   },
   "outputs": [
    {
     "data": {
      "text/plain": [
       "array(['SANTA MARIA', nan, 'CAPITAL', 'CALAMUCHITA', 'COLON',\n",
       "       'GENERAL ROCA', 'GENERAL SAN MARTIN', 'MARCOS JUAREZ',\n",
       "       'PTE. ROQUE SAENZ PEÑA', 'PUNILLA', 'RIO CUARTO', 'RIO SECO',\n",
       "       'RIO SEGUNDO', 'SAN JUSTO', 'TERCERO ARRIBA', 'UNION',\n",
       "       'JUAREZ CELMAN', 'SOBREMONTE', 'TULUMBA', 'TOTORAL', 'ISCHILIN',\n",
       "       'CRUZ DEL EJE', 'SAN ALBERTO', 'SAN JAVIER', 'RIO PRIMERO', 'MINAS',\n",
       "       'POCHO'], dtype=object)"
      ]
     },
     "execution_count": 6,
     "metadata": {},
     "output_type": "execute_result"
    }
   ],
   "source": [
    "df['departamento'].unique()"
   ]
  },
  {
   "cell_type": "code",
   "execution_count": 7,
   "metadata": {
    "collapsed": false
   },
   "outputs": [],
   "source": [
    "df.latitud[0], type(df.latitud[0])\n",
    "df = df.fillna(False)"
   ]
  },
  {
   "cell_type": "code",
   "execution_count": 8,
   "metadata": {
    "collapsed": false
   },
   "outputs": [
    {
     "data": {
      "text/plain": [
       "(6531, 41)"
      ]
     },
     "execution_count": 8,
     "metadata": {},
     "output_type": "execute_result"
    }
   ],
   "source": [
    "df.shape"
   ]
  },
  {
   "cell_type": "code",
   "execution_count": 9,
   "metadata": {
    "collapsed": false
   },
   "outputs": [
    {
     "data": {
      "text/plain": [
       "(5086, 41)"
      ]
     },
     "execution_count": 9,
     "metadata": {},
     "output_type": "execute_result"
    }
   ],
   "source": [
    "df = df[df.latitud != False]\n",
    "df.shape"
   ]
  },
  {
   "cell_type": "code",
   "execution_count": 10,
   "metadata": {
    "collapsed": false
   },
   "outputs": [
    {
     "data": {
      "text/plain": [
       "array(['SECUNDARIO', 'PRIMARIO', False, 'SUPERIOR', 'INICIAL', 'ESPECIAL'], dtype=object)"
      ]
     },
     "execution_count": 10,
     "metadata": {},
     "output_type": "execute_result"
    }
   ],
   "source": [
    "df.nivel_educativo.unique()"
   ]
  },
  {
   "cell_type": "code",
   "execution_count": 11,
   "metadata": {
    "collapsed": false
   },
   "outputs": [
    {
     "data": {
      "text/plain": [
       "(1057, 41)"
      ]
     },
     "execution_count": 11,
     "metadata": {},
     "output_type": "execute_result"
    }
   ],
   "source": [
    "secundarios = df[df.nivel_educativo == 'SECUNDARIO']\n",
    "secundarios.shape"
   ]
  },
  {
   "cell_type": "code",
   "execution_count": 12,
   "metadata": {
    "collapsed": false
   },
   "outputs": [
    {
     "data": {
      "text/plain": [
       "491"
      ]
     },
     "execution_count": 12,
     "metadata": {},
     "output_type": "execute_result"
    }
   ],
   "source": [
    "features = []\n",
    "\n",
    "departamentos_busqueda = ['CAPITAL', 'COLON', 'RIO PRIMERO', 'SANTA MARIA', 'RIO SEGUNDO', False]\n",
    "\n",
    "for i in range(secundarios.shape[0]):\n",
    "    if secundarios.iloc[i].departamento in departamentos_busqueda:\n",
    "        \n",
    "        long = secundarios.iloc[i]['longitud'].replace(',', '.')\n",
    "        lat = secundarios.iloc[i]['latitud'].replace(',', '.')\n",
    "        \n",
    "        features.append({\"geometry\": {\n",
    "        \"coordinates\": [float(long), float(lat)], \n",
    "        \"type\": \"Point\"\n",
    "    },\n",
    " \"properties\": {\n",
    "        'name': secundarios.iloc[i]['establecimiento'],\n",
    "        'type': 'secondary',\n",
    "        'tipo_escuela': secundarios.iloc[i]['tipo_empresa'],\n",
    "        'ambito': secundarios.iloc[i]['ambito_escuela'],\n",
    "        'nivel_educativo': secundarios.iloc[i]['nivel_educativo']\n",
    "    },\n",
    " \"type\": \"Feature\"\n",
    "})\n",
    "\n",
    "len(features)"
   ]
  },
  {
   "cell_type": "code",
   "execution_count": 13,
   "metadata": {
    "collapsed": true
   },
   "outputs": [],
   "source": [
    "data = {\"features\": features,\n",
    "        \"type\": \"FeatureCollection\"}\n",
    "\n",
    "save2json('./../secundarios.geojson', data)"
   ]
  },
  {
   "cell_type": "code",
   "execution_count": 14,
   "metadata": {
    "collapsed": false
   },
   "outputs": [
    {
     "data": {
      "text/plain": [
       "(2177, 41)"
      ]
     },
     "execution_count": 14,
     "metadata": {},
     "output_type": "execute_result"
    }
   ],
   "source": [
    "primarios = df[df.nivel_educativo == 'PRIMARIO']\n",
    "primarios.shape"
   ]
  },
  {
   "cell_type": "code",
   "execution_count": 15,
   "metadata": {
    "collapsed": false
   },
   "outputs": [
    {
     "data": {
      "text/plain": [
       "708"
      ]
     },
     "execution_count": 15,
     "metadata": {},
     "output_type": "execute_result"
    }
   ],
   "source": [
    "features = []\n",
    "\n",
    "base = {\"geometry\": {\n",
    "        \"coordinates\": [], \n",
    "        \"type\": \"Point\"\n",
    "    },\n",
    " \"properties\": {\n",
    "        'nombre': '',\n",
    "        'tipo_escuela': '',\n",
    "        'ambito': '',\n",
    "        'nivel_educativo': ''\n",
    "    },\n",
    " \"type\": \"Feature\"\n",
    "}\n",
    "\n",
    "\n",
    "departamentos_busqueda = ['CAPITAL', 'COLON', 'RIO PRIMERO', 'SANTA MARIA', 'RIO SEGUNDO', False]\n",
    "\n",
    "for i in range(primarios.shape[0]):\n",
    "    if primarios.iloc[i].departamento in departamentos_busqueda:\n",
    "        \n",
    "        long = primarios.iloc[i]['longitud'].replace(',', '.')\n",
    "        lat = primarios.iloc[i]['latitud'].replace(',', '.')\n",
    "        \n",
    "        features.append({\"geometry\": {\n",
    "        \"coordinates\": [float(long), float(lat)], \n",
    "        \"type\": \"Point\"\n",
    "    },\n",
    " \"properties\": {\n",
    "        'name': primarios.iloc[i]['establecimiento'],\n",
    "        'type': 'primary',\n",
    "        'tipo_escuela': primarios.iloc[i]['tipo_empresa'],\n",
    "        'ambito': primarios.iloc[i]['ambito_escuela'],\n",
    "        'nivel_educativo': primarios.iloc[i]['nivel_educativo']\n",
    "    },\n",
    " \"type\": \"Feature\"})\n",
    "\n",
    "len(features)"
   ]
  },
  {
   "cell_type": "code",
   "execution_count": 16,
   "metadata": {
    "collapsed": true
   },
   "outputs": [],
   "source": [
    "data = {\"features\": features,\n",
    "        \"type\": \"FeatureCollection\"}\n",
    "\n",
    "save2json('./../primarios.geojson', data)"
   ]
  },
  {
   "cell_type": "code",
   "execution_count": null,
   "metadata": {
    "collapsed": true
   },
   "outputs": [],
   "source": []
  }
 ],
 "metadata": {
  "anaconda-cloud": {},
  "kernelspec": {
   "display_name": "Python [default]",
   "language": "python",
   "name": "python3"
  },
  "language_info": {
   "codemirror_mode": {
    "name": "ipython",
    "version": 3
   },
   "file_extension": ".py",
   "mimetype": "text/x-python",
   "name": "python",
   "nbconvert_exporter": "python",
   "pygments_lexer": "ipython3",
   "version": "3.5.2"
  }
 },
 "nbformat": 4,
 "nbformat_minor": 2
}
